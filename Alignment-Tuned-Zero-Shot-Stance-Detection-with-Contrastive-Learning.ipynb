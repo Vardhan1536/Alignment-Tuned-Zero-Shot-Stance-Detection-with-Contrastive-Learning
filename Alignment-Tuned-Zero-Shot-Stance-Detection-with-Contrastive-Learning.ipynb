{
  "metadata": {
    "kernelspec": {
      "language": "python",
      "display_name": "Python 3",
      "name": "python3"
    },
    "language_info": {
      "name": "python",
      "version": "3.11.11",
      "mimetype": "text/x-python",
      "codemirror_mode": {
        "name": "ipython",
        "version": 3
      },
      "pygments_lexer": "ipython3",
      "nbconvert_exporter": "python",
      "file_extension": ".py"
    },
    "kaggle": {
      "accelerator": "nvidiaTeslaT4",
      "dataSources": [
        {
          "sourceId": 11424392,
          "sourceType": "datasetVersion",
          "datasetId": 7154895
        }
      ],
      "dockerImageVersionId": 31011,
      "isInternetEnabled": true,
      "language": "python",
      "sourceType": "notebook",
      "isGpuEnabled": true
    },
    "colab": {
      "provenance": []
    }
  },
  "nbformat_minor": 0,
  "nbformat": 4,
  "cells": [
    {
      "source": [
        "=v              IMPORTANT: SOME KAGGLE DATA SOURCES ARE PRIVATE\n",
        "# RUN THIS CELL IN ORDER TO IMPORT YOUR KAGGLE DATA SOURCES.\n",
        "import kagglehub\n",
        "kagglehub.login()\n"
      ],
      "metadata": {
        "id": "6qtxnYDCRtkj"
      },
      "cell_type": "code",
      "outputs": [],
      "execution_count": null
    },
    {
      "source": [
        "# IMPORTANT: RUN THIS CELL IN ORDER TO IMPORT YOUR KAGGLE DATA SOURCES,\n",
        "# THEN FEEL FREE TO DELETE THIS CELL.\n",
        "# NOTE: THIS NOTEBOOK ENVIRONMENT DIFFERS FROM KAGGLE'S PYTHON\n",
        "# ENVIRONMENT SO THERE MAY BE MISSING LIBRARIES USED BY YOUR\n",
        "# NOTEBOOK.\n",
        "\n",
        "vardhan1536_new_vast_path = kagglehub.dataset_download('vardhan1536/new-vast')\n",
        "\n",
        "print('Data source import complete.')\n"
      ],
      "metadata": {
        "id": "sLf-GfoyRtk0"
      },
      "cell_type": "code",
      "outputs": [],
      "execution_count": null
    },
    {
      "cell_type": "markdown",
      "source": [
        "# Zero Shot Stance Detection Using Contrastive Learning and Reinforcement Learning"
      ],
      "metadata": {
        "id": "u48N2c9GRtk6"
      }
    },
    {
      "cell_type": "markdown",
      "source": [
        "Importing all necessary Libraries"
      ],
      "metadata": {
        "id": "YlxFacqnRtlD"
      }
    },
    {
      "cell_type": "code",
      "source": [
        "import pandas as pd\n",
        "import torch\n",
        "import torch.nn as nn\n",
        "import torch.nn.functional as F\n",
        "from torch.utils.data import Dataset, DataLoader\n",
        "from torch.optim import AdamW\n",
        "from torch.distributions import Categorical\n",
        "import torch.optim as optim\n",
        "from transformers import AutoTokenizer, AutoModel, get_linear_schedule_with_warmup\n",
        "from sklearn.model_selection import train_test_split\n",
        "from sklearn.metrics import (accuracy_score, precision_score, recall_score, f1_score,\n",
        "                             classification_report, confusion_matrix)\n",
        "from tqdm.notebook import tqdm\n",
        "import random\n",
        "from itertools import combinations\n",
        "import numpy as np\n",
        "import matplotlib.pyplot as plt\n",
        "import seaborn as sns\n",
        "import os"
      ],
      "metadata": {
        "trusted": true,
        "id": "BJCI0fSXRtlF"
      },
      "outputs": [],
      "execution_count": null
    },
    {
      "cell_type": "code",
      "source": [
        "MODEL_NAME = \"princeton-nlp/sup-simcse-bert-base-uncased\"\n",
        "OUTPUT_DIR = \"./stance_detection_output\"\n",
        "os.makedirs(OUTPUT_DIR, exist_ok=True)\n",
        "\n",
        "MAX_LENGTH = 128\n",
        "SEED = 42"
      ],
      "metadata": {
        "trusted": true,
        "execution": {
          "iopub.status.busy": "2025-04-17T14:38:33.604074Z",
          "iopub.execute_input": "2025-04-17T14:38:33.604615Z",
          "iopub.status.idle": "2025-04-17T14:38:33.609868Z",
          "shell.execute_reply.started": "2025-04-17T14:38:33.604589Z",
          "shell.execute_reply": "2025-04-17T14:38:33.609238Z"
        },
        "id": "mXL6AUQ0RtlI"
      },
      "outputs": [],
      "execution_count": null
    },
    {
      "cell_type": "code",
      "source": [
        "random.seed(SEED)\n",
        "np.random.seed(SEED)\n",
        "torch.manual_seed(SEED)\n",
        "if torch.cuda.is_available():\n",
        "    torch.cuda.manual_seed_all(SEED)\n",
        "\n",
        "device = torch.device(\"cuda\" if torch.cuda.is_available() else \"cpu\")\n",
        "print(f\"Using device: {device}\")\n"
      ],
      "metadata": {
        "trusted": true,
        "execution": {
          "iopub.status.busy": "2025-04-17T14:38:36.508883Z",
          "iopub.execute_input": "2025-04-17T14:38:36.509417Z",
          "iopub.status.idle": "2025-04-17T14:38:36.59579Z",
          "shell.execute_reply.started": "2025-04-17T14:38:36.509396Z",
          "shell.execute_reply": "2025-04-17T14:38:36.59518Z"
        },
        "id": "E2oujZ6wRtlO",
        "outputId": "b767cf9f-860a-4e3d-e21f-f73bc2f58d5c"
      },
      "outputs": [
        {
          "name": "stdout",
          "text": "Using device: cuda\n",
          "output_type": "stream"
        }
      ],
      "execution_count": null
    },
    {
      "cell_type": "markdown",
      "source": [
        "## Contrastive Learning Part"
      ],
      "metadata": {
        "id": "jMdp0khWRtlY"
      }
    },
    {
      "cell_type": "code",
      "source": [
        "df_train = pd.read_csv('/kaggle/input/new-vast/VAST_train_11k (1).csv')\n",
        "df_val = pd.read_csv('/kaggle/input/new-vast/VAST_val (1).csv')\n",
        "df_test = pd.read_csv('/kaggle/input/new-vast/VAST_test (1).csv')\n",
        "\n",
        "def preprocess_df(df, is_test=False):\n",
        "    df = df[['Tweet', 'Target 1', 'Stance 1']].dropna()\n",
        "    df.columns = ['tweet', 'target', 'stance']\n",
        "    df['stance'] = df['stance'].str.upper().str.strip()\n",
        "    valid_stances = ['FAVOR', 'AGAINST', 'NONE']\n",
        "    df = df[df['stance'].isin(valid_stances)]\n",
        "\n",
        "    df['contrastive_input'] = df['tweet'] + ' [SEP] ' + df['target']\n",
        "    return df.reset_index(drop=True)\n",
        "\n",
        "df_train = preprocess_df(df_train)\n",
        "df_val = preprocess_df(df_val)\n",
        "df_test = preprocess_df(df_test)\n",
        "\n",
        "print(f\"Train samples: {len(df_train)}, Val samples: {len(df_val)}, Test samples: {len(df_test)}\")\n",
        "print(\"Train stance distribution:\\n\", df_train['stance'].value_counts())\n",
        "\n",
        "# Stance Mapping\n",
        "stance_to_id = {'FAVOR': 0, 'AGAINST': 1, 'NONE': 2}\n",
        "id_to_stance = {v: k for k, v in stance_to_id.items()}\n",
        "NUM_ACTIONS = len(stance_to_id)\n"
      ],
      "metadata": {
        "trusted": true,
        "execution": {
          "iopub.status.busy": "2025-04-17T14:38:38.757019Z",
          "iopub.execute_input": "2025-04-17T14:38:38.757575Z",
          "iopub.status.idle": "2025-04-17T14:38:39.076111Z",
          "shell.execute_reply.started": "2025-04-17T14:38:38.75755Z",
          "shell.execute_reply": "2025-04-17T14:38:39.075387Z"
        },
        "id": "6sZ0Bxg6Rtlb",
        "outputId": "980666e4-3531-4a29-caa4-e3e8cbe163a9"
      },
      "outputs": [
        {
          "name": "stdout",
          "text": "Loading and preprocessing data...\nTrain samples: 11305, Val samples: 2062, Test samples: 3006\nTrain stance distribution:\n stance\nAGAINST    4507\nFAVOR      4302\nNONE       2496\nName: count, dtype: int64\n",
          "output_type": "stream"
        }
      ],
      "execution_count": null
    },
    {
      "cell_type": "markdown",
      "source": [
        "### Preference Pairs Generation"
      ],
      "metadata": {
        "id": "jAtGvzJtRtlj"
      }
    },
    {
      "cell_type": "code",
      "source": [
        "\n",
        "MAX_PAIRS_PER_GROUP = 5000\n",
        "MAX_NEG_PAIRS_PER_TARGET = 10000\n",
        "\n",
        "positive_pairs = []\n",
        "negative_pairs = []\n",
        "stance_groups = df_train.groupby(['target', 'stance'])\n",
        "\n",
        "for (target, stance), group in tqdm(stance_groups, desc=\"Generating Positive Pairs\"):\n",
        "    inputs = group['contrastive_input'].tolist()\n",
        "    count = 0\n",
        "    for a, b in combinations(inputs, 2):\n",
        "        if count >= MAX_PAIRS_PER_GROUP: break\n",
        "        positive_pairs.append((a, b, 1))\n",
        "        count += 1\n",
        "\n",
        "targets = df_train['target'].unique()\n",
        "for target in tqdm(targets, desc=\"Generating Negative Pairs\"):\n",
        "    subset = df_train[df_train['target'] == target]\n",
        "    stances = subset['stance'].unique()\n",
        "    if len(stances) < 2: continue\n",
        "\n",
        "    stance_to_inputs = {s: subset[subset['stance'] == s]['contrastive_input'].tolist() for s in stances}\n",
        "    neg_count_target = 0\n",
        "    processed_pairs = set()\n",
        "\n",
        "    for s_idx_a, stance_a in enumerate(stances):\n",
        "        if neg_count_target >= MAX_NEG_PAIRS_PER_TARGET: break\n",
        "        for s_idx_b, stance_b in enumerate(stances):\n",
        "            if stance_a == stance_b: continue\n",
        "            if neg_count_target >= MAX_NEG_PAIRS_PER_TARGET: break\n",
        "\n",
        "            a_list = stance_to_inputs[stance_a]\n",
        "            b_list = stance_to_inputs[stance_b]\n",
        "            if not a_list or not b_list: continue\n",
        "\n",
        "\n",
        "            max_pairs_between = min(len(a_list) * len(b_list), 5000)\n",
        "            sampled_count = 0\n",
        "            while sampled_count < max_pairs_between and neg_count_target < MAX_NEG_PAIRS_PER_TARGET:\n",
        "                a = random.choice(a_list)\n",
        "                b = random.choice(b_list)\n",
        "                pair_key = tuple(sorted((a, b)))\n",
        "                if pair_key not in processed_pairs:\n",
        "                    negative_pairs.append((a, b, 0))\n",
        "                    processed_pairs.add(pair_key)\n",
        "                    neg_count_target += 1\n",
        "                    sampled_count += 1\n",
        "\n",
        "                if len(processed_pairs) > len(a_list) * len(b_list) * 0.95:\n",
        "                    break\n",
        "\n",
        "\n",
        "print(f\"Positive pairs: {len(positive_pairs)}, Negative pairs: {len(negative_pairs)}\")\n",
        "all_pairs = positive_pairs + negative_pairs\n",
        "random.shuffle(all_pairs)\n",
        "pairs_df = pd.DataFrame(all_pairs, columns=['text1', 'text2', 'label'])\n",
        "print(f\"Total contrastive pairs: {len(pairs_df)}\")"
      ],
      "metadata": {
        "trusted": true,
        "execution": {
          "iopub.status.busy": "2025-04-17T14:39:14.959817Z",
          "iopub.execute_input": "2025-04-17T14:39:14.960473Z",
          "iopub.status.idle": "2025-04-17T14:39:22.086088Z",
          "shell.execute_reply.started": "2025-04-17T14:39:14.960422Z",
          "shell.execute_reply": "2025-04-17T14:39:22.083126Z"
        },
        "id": "FiVkkkPNRtln",
        "outputId": "00278513-4ece-46ac-afa3-fb128582c485",
        "colab": {
          "referenced_widgets": [
            "9264fe54ecdd43afb73dc74840448f00",
            "a2586bbe382f4f3fa5f264c1a6224395"
          ]
        }
      },
      "outputs": [
        {
          "name": "stdout",
          "text": "\n--- Stage 1: Contrastive Learning ---\nGenerating contrastive pairs...\n",
          "output_type": "stream"
        },
        {
          "output_type": "display_data",
          "data": {
            "text/plain": "Generating Positive Pairs:   0%|          | 0/5928 [00:00<?, ?it/s]",
            "application/vnd.jupyter.widget-view+json": {
              "version_major": 2,
              "version_minor": 0,
              "model_id": "9264fe54ecdd43afb73dc74840448f00"
            }
          },
          "metadata": {}
        },
        {
          "output_type": "display_data",
          "data": {
            "text/plain": "Generating Negative Pairs:   0%|          | 0/4569 [00:00<?, ?it/s]",
            "application/vnd.jupyter.widget-view+json": {
              "version_major": 2,
              "version_minor": 0,
              "model_id": "a2586bbe382f4f3fa5f264c1a6224395"
            }
          },
          "metadata": {}
        },
        {
          "name": "stdout",
          "text": "Positive pairs: 36923, Negative pairs: 30996\nTotal contrastive pairs: 67919\n",
          "output_type": "stream"
        }
      ],
      "execution_count": null
    },
    {
      "cell_type": "markdown",
      "source": [
        "### Contrastive Dataset and DataLoader"
      ],
      "metadata": {
        "id": "sW2RLpBXRtlu"
      }
    },
    {
      "cell_type": "code",
      "source": [
        "\n",
        "CONTRASTIVE_BATCH_SIZE = 32\n",
        "\n",
        "class ContrastiveStanceDataset(Dataset):\n",
        "    def __init__(self, dataframe):\n",
        "        self.df = dataframe\n",
        "\n",
        "    def __len__(self):\n",
        "        return len(self.df)\n",
        "\n",
        "    def __getitem__(self, idx):\n",
        "        row = self.df.iloc[idx]\n",
        "        return {\n",
        "            'text1': row['text1'],\n",
        "            'text2': row['text2'],\n",
        "            'label': torch.tensor(row['label'], dtype=torch.float)\n",
        "        }\n",
        "\n",
        "contrastive_dataset = ContrastiveStanceDataset(pairs_df)\n",
        "contrastive_dataloader = DataLoader(contrastive_dataset, batch_size=CONTRASTIVE_BATCH_SIZE, shuffle=True)"
      ],
      "metadata": {
        "trusted": true,
        "execution": {
          "iopub.status.busy": "2025-04-17T14:39:28.934164Z",
          "iopub.execute_input": "2025-04-17T14:39:28.934494Z",
          "iopub.status.idle": "2025-04-17T14:39:28.940197Z",
          "shell.execute_reply.started": "2025-04-17T14:39:28.934471Z",
          "shell.execute_reply": "2025-04-17T14:39:28.939452Z"
        },
        "id": "6KBD1R9NRtl0"
      },
      "outputs": [],
      "execution_count": null
    },
    {
      "cell_type": "markdown",
      "source": [
        "### Embedding Function and Contrastive Loss"
      ],
      "metadata": {
        "id": "JlwOt7C1Rtl5"
      }
    },
    {
      "cell_type": "code",
      "source": [
        "# Model and Tokenizer\n",
        "CONTRASTIVE_MARGIN = 0.5\n",
        "tokenizer = AutoTokenizer.from_pretrained(MODEL_NAME)\n",
        "contrastive_model = AutoModel.from_pretrained(MODEL_NAME).to(device)\n",
        "\n",
        "# Embedding Function for Contrastive Learning\n",
        "def get_cls_embeddings(texts, model, tokenizer, device):\n",
        "    \"\"\"Encodes texts independently and returns CLS embeddings.\"\"\"\n",
        "    if not texts: return torch.empty(0, model.config.hidden_size).to(device)\n",
        "    inputs = tokenizer(texts, padding=True, truncation=True, return_tensors='pt', max_length=MAX_LENGTH).to(device)\n",
        "    with torch.no_grad():\n",
        "        outputs = model(**inputs, return_dict=True)\n",
        "    return outputs.last_hidden_state[:, 0, :]\n",
        "\n",
        "# Contrastive Loss\n",
        "def contrastive_loss_fn(emb1, emb2, label, margin=CONTRASTIVE_MARGIN):\n",
        "    cosine_sim = F.cosine_similarity(emb1, emb2)\n",
        "    loss = torch.where(label.bool(), 1.0 - cosine_sim, F.relu(cosine_sim - margin))\n",
        "    return loss.mean()"
      ],
      "metadata": {
        "trusted": true,
        "execution": {
          "iopub.status.busy": "2025-04-17T14:39:31.61761Z",
          "iopub.execute_input": "2025-04-17T14:39:31.617894Z",
          "iopub.status.idle": "2025-04-17T14:40:02.154828Z",
          "shell.execute_reply.started": "2025-04-17T14:39:31.617873Z",
          "shell.execute_reply": "2025-04-17T14:40:02.154213Z"
        },
        "id": "4ORglwXiRtl8",
        "outputId": "52d11fb6-7bfc-4630-b909-53d1d2782284",
        "colab": {
          "referenced_widgets": [
            "d936f32f6f7248f0b91219d87af2345e",
            "efde0a6bd3884ff78ecca63ca0ef45aa",
            "987e0e5ec71247249d98234aaba50756",
            "8fef083ab5414a6cabeb475c07903bc1",
            "8717a554aecb4ace9e6242dcf4318b49",
            "8294f67a99f348449c63ef6c6f39faa4"
          ]
        }
      },
      "outputs": [
        {
          "output_type": "display_data",
          "data": {
            "text/plain": "tokenizer_config.json:   0%|          | 0.00/252 [00:00<?, ?B/s]",
            "application/vnd.jupyter.widget-view+json": {
              "version_major": 2,
              "version_minor": 0,
              "model_id": "d936f32f6f7248f0b91219d87af2345e"
            }
          },
          "metadata": {}
        },
        {
          "output_type": "display_data",
          "data": {
            "text/plain": "config.json:   0%|          | 0.00/689 [00:00<?, ?B/s]",
            "application/vnd.jupyter.widget-view+json": {
              "version_major": 2,
              "version_minor": 0,
              "model_id": "efde0a6bd3884ff78ecca63ca0ef45aa"
            }
          },
          "metadata": {}
        },
        {
          "output_type": "display_data",
          "data": {
            "text/plain": "vocab.txt:   0%|          | 0.00/232k [00:00<?, ?B/s]",
            "application/vnd.jupyter.widget-view+json": {
              "version_major": 2,
              "version_minor": 0,
              "model_id": "987e0e5ec71247249d98234aaba50756"
            }
          },
          "metadata": {}
        },
        {
          "output_type": "display_data",
          "data": {
            "text/plain": "special_tokens_map.json:   0%|          | 0.00/112 [00:00<?, ?B/s]",
            "application/vnd.jupyter.widget-view+json": {
              "version_major": 2,
              "version_minor": 0,
              "model_id": "8fef083ab5414a6cabeb475c07903bc1"
            }
          },
          "metadata": {}
        },
        {
          "name": "stderr",
          "text": "2025-04-17 14:39:42.630760: E external/local_xla/xla/stream_executor/cuda/cuda_fft.cc:477] Unable to register cuFFT factory: Attempting to register factory for plugin cuFFT when one has already been registered\nWARNING: All log messages before absl::InitializeLog() is called are written to STDERR\nE0000 00:00:1744900782.835904      31 cuda_dnn.cc:8310] Unable to register cuDNN factory: Attempting to register factory for plugin cuDNN when one has already been registered\nE0000 00:00:1744900782.898428      31 cuda_blas.cc:1418] Unable to register cuBLAS factory: Attempting to register factory for plugin cuBLAS when one has already been registered\n",
          "output_type": "stream"
        },
        {
          "output_type": "display_data",
          "data": {
            "text/plain": "pytorch_model.bin:   0%|          | 0.00/438M [00:00<?, ?B/s]",
            "application/vnd.jupyter.widget-view+json": {
              "version_major": 2,
              "version_minor": 0,
              "model_id": "8717a554aecb4ace9e6242dcf4318b49"
            }
          },
          "metadata": {}
        },
        {
          "output_type": "display_data",
          "data": {
            "text/plain": "model.safetensors:   0%|          | 0.00/438M [00:00<?, ?B/s]",
            "application/vnd.jupyter.widget-view+json": {
              "version_major": 2,
              "version_minor": 0,
              "model_id": "8294f67a99f348449c63ef6c6f39faa4"
            }
          },
          "metadata": {}
        }
      ],
      "execution_count": null
    },
    {
      "cell_type": "markdown",
      "source": [
        "### Training Loop - Contrastive Fine Tuning"
      ],
      "metadata": {
        "id": "XH8BSxcFRtmC"
      }
    },
    {
      "cell_type": "code",
      "source": [
        "\n",
        "CONTRASTIVE_LR = 1e-5\n",
        "\n",
        "optimizer_contrastive = AdamW(contrastive_model.parameters(), lr=CONTRASTIVE_LR)\n",
        "\n",
        "CONTRASTIVE_EPOCHS = 2\n",
        "\n",
        "contrastive_model.train()\n",
        "for epoch in range(CONTRASTIVE_EPOCHS):\n",
        "    total_loss = 0\n",
        "    progress_bar = tqdm(contrastive_dataloader, desc=f\"Contrastive Epoch {epoch + 1}/{CONTRASTIVE_EPOCHS}\", leave=False)\n",
        "    for batch in progress_bar:\n",
        "        optimizer_contrastive.zero_grad()\n",
        "\n",
        "        text1_list = batch['text1']\n",
        "        text2_list = batch['text2']\n",
        "        labels = batch['label'].to(device)\n",
        "\n",
        "        inputs1 = tokenizer(text1_list, padding=True, truncation=True, return_tensors='pt', max_length=MAX_LENGTH).to(device)\n",
        "        inputs2 = tokenizer(text2_list, padding=True, truncation=True, return_tensors='pt', max_length=MAX_LENGTH).to(device)\n",
        "\n",
        "        outputs1 = contrastive_model(**inputs1, return_dict=True)\n",
        "        outputs2 = contrastive_model(**inputs2, return_dict=True)\n",
        "        emb1 = outputs1.last_hidden_state[:, 0, :]\n",
        "        emb2 = outputs2.last_hidden_state[:, 0, :]\n",
        "\n",
        "        loss = contrastive_loss_fn(emb1, emb2, labels)\n",
        "        loss.backward()\n",
        "        optimizer_contrastive.step()\n",
        "\n",
        "        total_loss += loss.item()\n",
        "        progress_bar.set_postfix(loss=loss.item())\n",
        "\n",
        "    avg_loss = total_loss / len(contrastive_dataloader)\n",
        "    print(f\"Contrastive Epoch {epoch + 1} Average Loss: {avg_loss:.4f}\")"
      ],
      "metadata": {
        "trusted": true,
        "execution": {
          "iopub.status.busy": "2025-04-17T14:40:12.852703Z",
          "iopub.execute_input": "2025-04-17T14:40:12.853285Z",
          "iopub.status.idle": "2025-04-17T16:22:50.824796Z",
          "shell.execute_reply.started": "2025-04-17T14:40:12.853262Z",
          "shell.execute_reply": "2025-04-17T16:22:50.823676Z"
        },
        "id": "5iL6opjMRtmE",
        "outputId": "8e620d46-cbe2-4e01-9c16-c0e929be9633",
        "colab": {
          "referenced_widgets": [
            ""
          ]
        }
      },
      "outputs": [
        {
          "name": "stdout",
          "text": "Starting contrastive fine-tuning...\n",
          "output_type": "stream"
        },
        {
          "output_type": "display_data",
          "data": {
            "text/plain": "Contrastive Epoch 1/2:   0%|          | 0/2123 [00:00<?, ?it/s]",
            "application/vnd.jupyter.widget-view+json": {
              "version_major": 2,
              "version_minor": 0,
              "model_id": ""
            }
          },
          "metadata": {}
        },
        {
          "name": "stdout",
          "text": "Contrastive Epoch 1 Average Loss: 0.1954\n",
          "output_type": "stream"
        },
        {
          "output_type": "display_data",
          "data": {
            "text/plain": "Contrastive Epoch 2/2:   0%|          | 0/2123 [00:00<?, ?it/s]",
            "application/vnd.jupyter.widget-view+json": {
              "version_major": 2,
              "version_minor": 0,
              "model_id": ""
            }
          },
          "metadata": {}
        },
        {
          "name": "stdout",
          "text": "Contrastive Epoch 2 Average Loss: 0.1448\n",
          "output_type": "stream"
        }
      ],
      "execution_count": null
    },
    {
      "cell_type": "code",
      "source": [
        "# Saving Contrastive Model\n",
        "contrastive_model_path = os.path.join(OUTPUT_DIR, \"contrastive_model.pth\")\n",
        "torch.save(contrastive_model.state_dict(), contrastive_model_path)\n",
        "print(f\"Contrastive model saved to {contrastive_model_path}\")\n",
        "contrastive_model.eval()"
      ],
      "metadata": {
        "trusted": true,
        "execution": {
          "iopub.status.busy": "2025-04-17T16:24:10.90672Z",
          "iopub.execute_input": "2025-04-17T16:24:10.907246Z",
          "iopub.status.idle": "2025-04-17T16:24:11.560047Z",
          "shell.execute_reply.started": "2025-04-17T16:24:10.907224Z",
          "shell.execute_reply": "2025-04-17T16:24:11.559404Z"
        },
        "id": "WlWEabwaRtmI",
        "outputId": "4d75b86e-6471-40d9-cb90-954180b114c9"
      },
      "outputs": [
        {
          "name": "stdout",
          "text": "Contrastive model saved to ./stance_detection_output/contrastive_model.pth\n",
          "output_type": "stream"
        },
        {
          "execution_count": 11,
          "output_type": "execute_result",
          "data": {
            "text/plain": "BertModel(\n  (embeddings): BertEmbeddings(\n    (word_embeddings): Embedding(30522, 768, padding_idx=0)\n    (position_embeddings): Embedding(512, 768)\n    (token_type_embeddings): Embedding(2, 768)\n    (LayerNorm): LayerNorm((768,), eps=1e-12, elementwise_affine=True)\n    (dropout): Dropout(p=0.1, inplace=False)\n  )\n  (encoder): BertEncoder(\n    (layer): ModuleList(\n      (0-11): 12 x BertLayer(\n        (attention): BertAttention(\n          (self): BertSdpaSelfAttention(\n            (query): Linear(in_features=768, out_features=768, bias=True)\n            (key): Linear(in_features=768, out_features=768, bias=True)\n            (value): Linear(in_features=768, out_features=768, bias=True)\n            (dropout): Dropout(p=0.1, inplace=False)\n          )\n          (output): BertSelfOutput(\n            (dense): Linear(in_features=768, out_features=768, bias=True)\n            (LayerNorm): LayerNorm((768,), eps=1e-12, elementwise_affine=True)\n            (dropout): Dropout(p=0.1, inplace=False)\n          )\n        )\n        (intermediate): BertIntermediate(\n          (dense): Linear(in_features=768, out_features=3072, bias=True)\n          (intermediate_act_fn): GELUActivation()\n        )\n        (output): BertOutput(\n          (dense): Linear(in_features=3072, out_features=768, bias=True)\n          (LayerNorm): LayerNorm((768,), eps=1e-12, elementwise_affine=True)\n          (dropout): Dropout(p=0.1, inplace=False)\n        )\n      )\n    )\n  )\n  (pooler): BertPooler(\n    (dense): Linear(in_features=768, out_features=768, bias=True)\n    (activation): Tanh()\n  )\n)"
          },
          "metadata": {}
        }
      ],
      "execution_count": null
    },
    {
      "cell_type": "markdown",
      "source": [
        "### Contrastive Learning Model Evaluation"
      ],
      "metadata": {
        "id": "VSOw83HwRtmP"
      }
    },
    {
      "cell_type": "code",
      "source": [
        "def evaluate_model(model, dataloader, prediction_fn, device, description=\"Evaluation\"):\n",
        "    model.eval()\n",
        "    all_preds = []\n",
        "    all_labels = []\n",
        "    with torch.no_grad():\n",
        "        for batch in tqdm(dataloader, desc=description):\n",
        "            tweets = batch.get('tweet')\n",
        "            targets = batch.get('target')\n",
        "            labels = batch.get('stance')\n",
        "\n",
        "            if tweets is None or targets is None or labels is None:\n",
        "                 input_ids = batch['input_ids'].to(device)\n",
        "                 attention_mask = batch['attention_mask'].to(device)\n",
        "                 labels = batch['stance_idx'].cpu().tolist()\n",
        "\n",
        "                 logits = model(input_ids, attention_mask)\n",
        "                 preds = torch.argmax(logits, dim=-1).cpu().tolist()\n",
        "\n",
        "            else:\n",
        "                 labels = labels\n",
        "                 preds = [prediction_fn(tweet, target, model, tokenizer, device)[0]\n",
        "                          for tweet, target in zip(tweets, targets)]\n",
        "\n",
        "            all_preds.extend(preds)\n",
        "            all_labels.extend(labels)\n",
        "\n",
        "    if isinstance(all_labels[0], (int, np.integer)):\n",
        "         all_labels = [id_to_stance[idx] for idx in all_labels]\n",
        "    if isinstance(all_preds[0], (int, np.integer)):\n",
        "         all_preds = [id_to_stance[idx] for idx in all_preds]\n",
        "\n",
        "    accuracy = accuracy_score(all_labels, all_preds)\n",
        "    precision_macro = precision_score(all_labels, all_preds, average='macro', zero_division=0)\n",
        "    recall_macro = recall_score(all_labels, all_preds, average='macro', zero_division=0)\n",
        "    f1_macro = f1_score(all_labels, all_preds, average='macro', zero_division=0)\n",
        "    f1_weighted = f1_score(all_labels, all_preds, average='weighted', zero_division=0)\n",
        "\n",
        "    print(f\"\\n--- {description} Results ---\")\n",
        "    print(f\"Accuracy      : {accuracy:.4f}\")\n",
        "    print(f\"Precision (Mac): {precision_macro:.4f}\")\n",
        "    print(f\"Recall (Mac)  : {recall_macro:.4f}\")\n",
        "    print(f\"F1 Score (Mac): {f1_macro:.4f}\")\n",
        "    print(f\"F1 Score (Wgt): {f1_weighted:.4f}\")\n",
        "\n",
        "    report = classification_report(all_labels, all_preds, zero_division=0,\n",
        "                                   target_names=list(stance_to_id.keys()))\n",
        "    print(\"\\nClassification Report:\")\n",
        "    print(report)\n",
        "    cm = confusion_matrix(all_labels, all_preds, labels=list(stance_to_id.keys()))\n",
        "    plt.figure(figsize=(8, 6))\n",
        "    sns.heatmap(cm, annot=True, fmt='d', cmap='Blues',\n",
        "                xticklabels=list(stance_to_id.keys()),\n",
        "                yticklabels=list(stance_to_id.keys()))\n",
        "    plt.xlabel('Predicted Stance')\n",
        "    plt.ylabel('True Stance')\n",
        "    plt.title(f'Confusion Matrix ({description})')\n",
        "    plt.savefig(os.path.join(OUTPUT_DIR, f\"confusion_matrix_{description.lower().replace(' ', '_')}.png\"))\n",
        "    plt.show()\n",
        "\n",
        "    return {\n",
        "        \"accuracy\": accuracy, \"precision_macro\": precision_macro, \"recall_macro\": recall_macro,\n",
        "        \"f1_macro\": f1_macro, \"f1_weighted\": f1_weighted, \"report\": report, \"cm\": cm\n",
        "    }"
      ],
      "metadata": {
        "trusted": true,
        "execution": {
          "iopub.status.busy": "2025-04-17T16:24:15.658121Z",
          "iopub.execute_input": "2025-04-17T16:24:15.658403Z",
          "iopub.status.idle": "2025-04-17T16:24:15.668989Z",
          "shell.execute_reply.started": "2025-04-17T16:24:15.658382Z",
          "shell.execute_reply": "2025-04-17T16:24:15.668425Z"
        },
        "id": "gidhV1WcRtmR"
      },
      "outputs": [],
      "execution_count": null
    },
    {
      "cell_type": "code",
      "source": [
        "def predict_stance_zero_shot(tweet, target, model, tokenizer, device):\n",
        "    model.eval()\n",
        "    input_text = f\"{tweet} [SEP] {target}\"\n",
        "    candidate_prompts = [f\"The stance towards {target} is {stance}\" for stance in stance_to_id.keys()]\n",
        "\n",
        "    input_embedding = get_cls_embeddings([input_text], model, tokenizer, device)\n",
        "    prompt_embeddings = get_cls_embeddings(candidate_prompts, model, tokenizer, device)\n",
        "\n",
        "    sims = F.cosine_similarity(input_embedding, prompt_embeddings)\n",
        "    best_idx = torch.argmax(sims).item()\n",
        "\n",
        "    predicted_stance = id_to_stance[best_idx]\n",
        "    return predicted_stance, sims.squeeze().cpu().tolist()\n",
        "\n",
        "\n",
        "print(\"\\n Evaluating Contrastive Model\")\n",
        "\n",
        "class SimpleDataset(Dataset):\n",
        "    def __init__(self, df): self.df = df\n",
        "    def __len__(self): return len(self.df)\n",
        "    def __getitem__(self, idx): return self.df.iloc[idx].to_dict()\n",
        "\n",
        "test_dataset_simple = SimpleDataset(df_test)\n",
        "test_dataloader_simple = DataLoader(test_dataset_simple, batch_size=CONTRASTIVE_BATCH_SIZE * 2)\n",
        "\n",
        "evaluate_model(contrastive_model, test_dataloader_simple, predict_stance_zero_shot, device, \"Contrastive Zero-Shot\")\n"
      ],
      "metadata": {
        "trusted": true,
        "execution": {
          "iopub.status.busy": "2025-04-17T16:24:25.472295Z",
          "iopub.execute_input": "2025-04-17T16:24:25.473106Z",
          "iopub.status.idle": "2025-04-17T16:25:18.85494Z",
          "shell.execute_reply.started": "2025-04-17T16:24:25.473079Z",
          "shell.execute_reply": "2025-04-17T16:25:18.854248Z"
        },
        "id": "FybhUn5tRtmX",
        "outputId": "b40c9fc0-edef-4469-a604-95c56d47ace9",
        "colab": {
          "referenced_widgets": [
            "9b3ec77c3c01463bba0fb2800c209853"
          ]
        }
      },
      "outputs": [
        {
          "name": "stdout",
          "text": "\n--- Evaluating Contrastive Model (Zero-Shot on Test Set) ---\n",
          "output_type": "stream"
        },
        {
          "output_type": "display_data",
          "data": {
            "text/plain": "Contrastive Zero-Shot:   0%|          | 0/47 [00:00<?, ?it/s]",
            "application/vnd.jupyter.widget-view+json": {
              "version_major": 2,
              "version_minor": 0,
              "model_id": "9b3ec77c3c01463bba0fb2800c209853"
            }
          },
          "metadata": {}
        },
        {
          "name": "stdout",
          "text": "\n--- Contrastive Zero-Shot Results ---\nAccuracy      : 0.3866\nPrecision (Mac): 0.4244\nRecall (Mac)  : 0.3907\nF1 Score (Mac): 0.3858\nF1 Score (Wgt): 0.3858\n\nClassification Report:\n              precision    recall  f1-score   support\n\n       FAVOR       0.39      0.30      0.34      1018\n     AGAINST       0.32      0.54      0.40       944\n        NONE       0.57      0.33      0.42      1044\n\n    accuracy                           0.39      3006\n   macro avg       0.42      0.39      0.39      3006\nweighted avg       0.43      0.39      0.39      3006\n\n",
          "output_type": "stream"
        },
        {
          "output_type": "display_data",
          "data": {
            "text/plain": "<Figure size 800x600 with 2 Axes>",
            "image/png": "[encoded data removed]"
          },
          "metadata": {}
        },
        {
          "execution_count": 13,
          "output_type": "execute_result",
          "data": {
            "text/plain": "{'accuracy': 0.3865602129075183,\n 'precision_macro': 0.42441921677324096,\n 'recall_macro': 0.3906942604604446,\n 'f1_macro': 0.38583169014155966,\n 'f1_weighted': 0.385820102639468,\n 'report': '              precision    recall  f1-score   support\\n\\n       FAVOR       0.39      0.30      0.34      1018\\n     AGAINST       0.32      0.54      0.40       944\\n        NONE       0.57      0.33      0.42      1044\\n\\n    accuracy                           0.39      3006\\n   macro avg       0.42      0.39      0.39      3006\\nweighted avg       0.43      0.39      0.39      3006\\n',\n 'cm': array([[508, 318, 118],\n        [562, 307, 149],\n        [540, 157, 347]])}"
          },
          "metadata": {}
        }
      ],
      "execution_count": null
    },
    {
      "cell_type": "markdown",
      "source": [
        "# Reinforcement Learning Part"
      ],
      "metadata": {
        "id": "ac6mvx0yRtmb"
      }
    },
    {
      "cell_type": "markdown",
      "source": [
        "### Reward Model Training Part"
      ],
      "metadata": {
        "id": "u7D-d6SbRtmi"
      }
    },
    {
      "cell_type": "code",
      "source": [
        "# Generate Feedback Data using the Contrastive Model\n",
        "\n",
        "print(\"Generating predictions on validation set for reward training...\")\n",
        "val_preds = []\n",
        "for _, row in tqdm(df_val.iterrows(), total=len(df_val), desc=\"Predicting Val Stances\"):\n",
        "    pred_stance, _ = predict_stance_zero_shot(row[\"tweet\"], row[\"target\"], contrastive_model, tokenizer, device)\n",
        "    val_preds.append(pred_stance)\n",
        "\n",
        "df_val[\"predicted_stance\"] = val_preds\n",
        "df_val[\"feedback\"] = (df_val[\"predicted_stance\"] == df_val[\"stance\"]).astype(int)\n",
        "\n",
        "df_val[\"reward_input\"] = df_val.apply(\n",
        "    lambda r: f\"Tweet: {r['tweet']} [SEP] Target: {r['target']} [PRED] {r['predicted_stance']}\", axis=1\n",
        ")\n",
        "\n",
        "print(\"Reward model training data distribution (Feedback):\")\n",
        "print(df_val[\"feedback\"].value_counts(normalize=True))"
      ],
      "metadata": {
        "trusted": true,
        "execution": {
          "iopub.status.busy": "2025-04-17T16:25:49.651767Z",
          "iopub.execute_input": "2025-04-17T16:25:49.652046Z",
          "iopub.status.idle": "2025-04-17T16:26:26.541456Z",
          "shell.execute_reply.started": "2025-04-17T16:25:49.652025Z",
          "shell.execute_reply": "2025-04-17T16:26:26.540589Z"
        },
        "id": "4nBAtZMSRtmk",
        "outputId": "695fc261-888c-4f91-c444-9bb39039060c",
        "colab": {
          "referenced_widgets": [
            "e90cbf3990d148a9ac440b9d97e42441"
          ]
        }
      },
      "outputs": [
        {
          "name": "stdout",
          "text": "\n--- Stage 2: Reward Model Training ---\nGenerating predictions on validation set for reward training...\n",
          "output_type": "stream"
        },
        {
          "output_type": "display_data",
          "data": {
            "text/plain": "Predicting Val Stances:   0%|          | 0/2062 [00:00<?, ?it/s]",
            "application/vnd.jupyter.widget-view+json": {
              "version_major": 2,
              "version_minor": 0,
              "model_id": "e90cbf3990d148a9ac440b9d97e42441"
            }
          },
          "metadata": {}
        },
        {
          "name": "stdout",
          "text": "Reward model training data distribution (Feedback):\nfeedback\n0    0.590204\n1    0.409796\nName: proportion, dtype: float64\n",
          "output_type": "stream"
        }
      ],
      "execution_count": null
    },
    {
      "cell_type": "markdown",
      "source": [
        "### Reward Dataset and DataLoader Definition"
      ],
      "metadata": {
        "id": "OPZd5uysRtmn"
      }
    },
    {
      "cell_type": "code",
      "source": [
        "\n",
        "REWARD_BATCH_SIZE = 16\n",
        "\n",
        "class RewardDataset(Dataset):\n",
        "    def __init__(self, texts, labels, tokenizer, max_length):\n",
        "        self.texts = texts\n",
        "        self.labels = labels\n",
        "        self.tokenizer = tokenizer\n",
        "        self.max_length = max_length\n",
        "    def __len__(self): return len(self.labels)\n",
        "    def __getitem__(self, idx):\n",
        "        encoding = self.tokenizer(self.texts[idx], truncation=True, padding='max_length', max_length=self.max_length, return_tensors='pt')\n",
        "        return {\n",
        "            'input_ids': encoding['input_ids'].flatten(),\n",
        "            'attention_mask': encoding['attention_mask'].flatten(),\n",
        "            'label': torch.tensor(self.labels[idx], dtype=torch.float)\n",
        "        }\n",
        "\n",
        "reward_dataset = RewardDataset(df_val[\"reward_input\"].tolist(), df_val[\"feedback\"].tolist(), tokenizer, MAX_LENGTH)\n",
        "reward_dataloader = DataLoader(reward_dataset, batch_size=REWARD_BATCH_SIZE, shuffle=True)\n"
      ],
      "metadata": {
        "trusted": true,
        "execution": {
          "iopub.status.busy": "2025-04-17T16:26:32.431839Z",
          "iopub.execute_input": "2025-04-17T16:26:32.432113Z",
          "iopub.status.idle": "2025-04-17T16:26:32.438155Z",
          "shell.execute_reply.started": "2025-04-17T16:26:32.432094Z",
          "shell.execute_reply": "2025-04-17T16:26:32.437596Z"
        },
        "id": "v2cgefPqRtmo"
      },
      "outputs": [],
      "execution_count": null
    },
    {
      "cell_type": "markdown",
      "source": [
        "### Reward Model Architecture"
      ],
      "metadata": {
        "id": "2ePWDMO0Rtmr"
      }
    },
    {
      "cell_type": "code",
      "source": [
        "class RewardModel(nn.Module):\n",
        "    def __init__(self, encoder_path, device):\n",
        "        super().__init__()\n",
        "        self.encoder = AutoModel.from_pretrained(MODEL_NAME)\n",
        "\n",
        "        self.encoder.load_state_dict(torch.load(encoder_path, map_location=device))\n",
        "\n",
        "        for param in self.encoder.parameters():\n",
        "            param.requires_grad = False\n",
        "\n",
        "        self.classifier = nn.Sequential(\n",
        "            nn.Linear(self.encoder.config.hidden_size, 256),\n",
        "            nn.ReLU(),\n",
        "            nn.Dropout(0.1),\n",
        "            nn.Linear(256, 1),\n",
        "            nn.Sigmoid()\n",
        "        ).to(device)\n",
        "\n",
        "\n",
        "    def forward(self, input_ids, attention_mask):\n",
        "\n",
        "        with torch.no_grad():\n",
        "            outputs = self.encoder(input_ids=input_ids, attention_mask=attention_mask, return_dict=True)\n",
        "        cls_output = outputs.last_hidden_state[:, 0]\n",
        "        score = self.classifier(cls_output).squeeze(-1)\n",
        "        return score\n",
        "\n",
        "reward_model = RewardModel(contrastive_model_path, device).to(device)"
      ],
      "metadata": {
        "trusted": true,
        "execution": {
          "iopub.status.busy": "2025-04-17T16:26:36.471738Z",
          "iopub.execute_input": "2025-04-17T16:26:36.472003Z",
          "iopub.status.idle": "2025-04-17T16:26:37.905286Z",
          "shell.execute_reply.started": "2025-04-17T16:26:36.471984Z",
          "shell.execute_reply": "2025-04-17T16:26:37.904547Z"
        },
        "id": "qUU_Lw1zRtms",
        "outputId": "f59b28cc-1e48-49ab-fd90-95f83bd1a415"
      },
      "outputs": [
        {
          "name": "stderr",
          "text": "/tmp/ipykernel_31/3820721378.py:7: FutureWarning: You are using `torch.load` with `weights_only=False` (the current default value), which uses the default pickle module implicitly. It is possible to construct malicious pickle data which will execute arbitrary code during unpickling (See https://github.com/pytorch/pytorch/blob/main/SECURITY.md#untrusted-models for more details). In a future release, the default value for `weights_only` will be flipped to `True`. This limits the functions that could be executed during unpickling. Arbitrary objects will no longer be allowed to be loaded via this mode unless they are explicitly allowlisted by the user via `torch.serialization.add_safe_globals`. We recommend you start setting `weights_only=True` for any use case where you don't have full control of the loaded file. Please open an issue on GitHub for any issues related to this experimental feature.\n  self.encoder.load_state_dict(torch.load(encoder_path, map_location=device))\n",
          "output_type": "stream"
        }
      ],
      "execution_count": null
    },
    {
      "cell_type": "markdown",
      "source": [
        "### Reward Model Training"
      ],
      "metadata": {
        "id": "p72sXUuGRtm2"
      }
    },
    {
      "cell_type": "code",
      "source": [
        "\n",
        "REWARD_EPOCHS = 3\n",
        "REWARD_LR = 5e-5\n",
        "\n",
        "optimizer_reward = AdamW(reward_model.classifier.parameters(), lr=REWARD_LR)\n",
        "loss_fn_reward = nn.BCELoss()\n",
        "\n",
        "reward_model.train()\n",
        "reward_model.encoder.eval()\n",
        "\n",
        "for epoch in range(REWARD_EPOCHS):\n",
        "    total_loss = 0\n",
        "    progress_bar = tqdm(reward_dataloader, desc=f\"Reward Epoch {epoch+1}/{REWARD_EPOCHS}\", leave=False)\n",
        "    for batch in progress_bar:\n",
        "        input_ids = batch[\"input_ids\"].to(device)\n",
        "        attention_mask = batch[\"attention_mask\"].to(device)\n",
        "        labels = batch[\"label\"].to(device)\n",
        "\n",
        "        optimizer_reward.zero_grad()\n",
        "        scores = reward_model(input_ids=input_ids, attention_mask=attention_mask)\n",
        "        loss = loss_fn_reward(scores, labels)\n",
        "        loss.backward()\n",
        "        optimizer_reward.step()\n",
        "\n",
        "        total_loss += loss.item()\n",
        "        progress_bar.set_postfix(loss=loss.item())\n",
        "\n",
        "    avg_loss = total_loss / len(reward_dataloader)\n",
        "    print(f\"Reward Epoch {epoch+1} Average Loss: {avg_loss:.4f}\")\n"
      ],
      "metadata": {
        "trusted": true,
        "execution": {
          "iopub.status.busy": "2025-04-17T16:26:41.78697Z",
          "iopub.execute_input": "2025-04-17T16:26:41.787658Z",
          "iopub.status.idle": "2025-04-17T16:27:36.151958Z",
          "shell.execute_reply.started": "2025-04-17T16:26:41.787634Z",
          "shell.execute_reply": "2025-04-17T16:27:36.151174Z"
        },
        "id": "Na1-756kRtm4",
        "outputId": "b0f769ec-b655-4473-ee67-86ceddec8f34",
        "colab": {
          "referenced_widgets": [
            ""
          ]
        }
      },
      "outputs": [
        {
          "name": "stdout",
          "text": "Starting reward model training...\n",
          "output_type": "stream"
        },
        {
          "output_type": "display_data",
          "data": {
            "text/plain": "Reward Epoch 1/3:   0%|          | 0/129 [00:00<?, ?it/s]",
            "application/vnd.jupyter.widget-view+json": {
              "version_major": 2,
              "version_minor": 0,
              "model_id": ""
            }
          },
          "metadata": {}
        },
        {
          "name": "stdout",
          "text": "Reward Epoch 1 Average Loss: 0.6821\n",
          "output_type": "stream"
        },
        {
          "output_type": "display_data",
          "data": {
            "text/plain": "Reward Epoch 2/3:   0%|          | 0/129 [00:00<?, ?it/s]",
            "application/vnd.jupyter.widget-view+json": {
              "version_major": 2,
              "version_minor": 0,
              "model_id": ""
            }
          },
          "metadata": {}
        },
        {
          "name": "stdout",
          "text": "Reward Epoch 2 Average Loss: 0.6755\n",
          "output_type": "stream"
        },
        {
          "output_type": "display_data",
          "data": {
            "text/plain": "Reward Epoch 3/3:   0%|          | 0/129 [00:00<?, ?it/s]",
            "application/vnd.jupyter.widget-view+json": {
              "version_major": 2,
              "version_minor": 0,
              "model_id": ""
            }
          },
          "metadata": {}
        },
        {
          "name": "stdout",
          "text": "Reward Epoch 3 Average Loss: 0.6737\n",
          "output_type": "stream"
        }
      ],
      "execution_count": null
    },
    {
      "cell_type": "markdown",
      "source": [
        "### Reward Model Evaluation"
      ],
      "metadata": {
        "id": "lKzilhDARtm8"
      }
    },
    {
      "cell_type": "code",
      "source": [
        "reward_model.eval()\n",
        "all_preds_rew = []\n",
        "all_labels_rew = []\n",
        "with torch.no_grad():\n",
        "    for batch in tqdm(reward_dataloader, desc=\"Evaluating Reward Model\"):\n",
        "        input_ids = batch[\"input_ids\"].to(device)\n",
        "        attention_mask = batch[\"attention_mask\"].to(device)\n",
        "        labels = batch[\"label\"].cpu().numpy()\n",
        "        scores = reward_model(input_ids=input_ids, attention_mask=attention_mask)\n",
        "        preds = (scores > 0.5).int().cpu().numpy()\n",
        "        all_preds_rew.extend(preds)\n",
        "        all_labels_rew.extend(labels)\n",
        "\n",
        "accuracy_rew = accuracy_score(all_labels_rew, all_preds_rew)\n",
        "precision_rew = precision_score(all_labels_rew, all_preds_rew, zero_division=0)\n",
        "recall_rew = recall_score(all_labels_rew, all_preds_rew, zero_division=0)\n",
        "f1_rew = f1_score(all_labels_rew, all_preds_rew, zero_division=0)\n",
        "\n",
        "print(\"\\n--- Reward Model Evaluation Results ---\")\n",
        "print(f\"Accuracy : {accuracy_rew:.4f}\")\n",
        "print(f\"Precision: {precision_rew:.4f} (Predicting '1' - Correct)\")\n",
        "print(f\"Recall   : {recall_rew:.4f} (Predicting '1' - Correct)\")\n",
        "print(f\"F1-Score : {f1_rew:.4f} (Predicting '1' - Correct)\")\n",
        "cm_rew = confusion_matrix(all_labels_rew, all_preds_rew)\n",
        "plt.figure(figsize=(6, 4))\n",
        "sns.heatmap(cm_rew, annot=True, fmt='d', cmap='Blues', xticklabels=[\"Pred: 0\", \"Pred: 1\"], yticklabels=[\"True: 0\", \"True: 1\"])\n",
        "plt.xlabel(\"Predicted Feedback \")\n",
        "plt.ylabel(\"True Feedback\")\n",
        "plt.title(\"Reward Model Confusion Matrix\")\n",
        "plt.savefig(os.path.join(OUTPUT_DIR, \"confusion_matrix_reward.png\"))\n",
        "plt.show()\n",
        "\n",
        "\n",
        "\n",
        "reward_model_path = os.path.join(OUTPUT_DIR, \"reward_model.pth\")\n",
        "\n",
        "torch.save(reward_model.state_dict(), reward_model_path)\n",
        "print(f\"Reward model saved to {reward_model_path}\")\n",
        "reward_model.eval()\n"
      ],
      "metadata": {
        "trusted": true,
        "execution": {
          "iopub.status.busy": "2025-04-17T16:29:07.001611Z",
          "iopub.execute_input": "2025-04-17T16:29:07.002366Z",
          "iopub.status.idle": "2025-04-17T16:29:25.801945Z",
          "shell.execute_reply.started": "2025-04-17T16:29:07.002331Z",
          "shell.execute_reply": "2025-04-17T16:29:25.801123Z"
        },
        "id": "nk5WMPlZRtnL",
        "outputId": "eb9d98ea-c21e-445b-d7ef-4b2a16a23117",
        "colab": {
          "referenced_widgets": [
            "227f696af1ea4b719baaddf3024f9e58"
          ]
        }
      },
      "outputs": [
        {
          "name": "stdout",
          "text": "Evaluating reward model on validation data...\n",
          "output_type": "stream"
        },
        {
          "output_type": "display_data",
          "data": {
            "text/plain": "Evaluating Reward Model:   0%|          | 0/129 [00:00<?, ?it/s]",
            "application/vnd.jupyter.widget-view+json": {
              "version_major": 2,
              "version_minor": 0,
              "model_id": "227f696af1ea4b719baaddf3024f9e58"
            }
          },
          "metadata": {}
        },
        {
          "name": "stdout",
          "text": "\n--- Reward Model Evaluation Results ---\nAccuracy : 0.5917\nPrecision: 0.7143 (Predicting '1' - Correct)\nRecall   : 0.0059 (Predicting '1' - Correct)\nF1-Score : 0.0117 (Predicting '1' - Correct)\n",
          "output_type": "stream"
        },
        {
          "output_type": "display_data",
          "data": {
            "text/plain": "<Figure size 600x400 with 2 Axes>",
            "image/png": "[encoded data removed]"
          },
          "metadata": {}
        },
        {
          "name": "stdout",
          "text": "Reward model saved to ./stance_detection_output/reward_model.pth\n",
          "output_type": "stream"
        },
        {
          "execution_count": 19,
          "output_type": "execute_result",
          "data": {
            "text/plain": "RewardModel(\n  (encoder): BertModel(\n    (embeddings): BertEmbeddings(\n      (word_embeddings): Embedding(30522, 768, padding_idx=0)\n      (position_embeddings): Embedding(512, 768)\n      (token_type_embeddings): Embedding(2, 768)\n      (LayerNorm): LayerNorm((768,), eps=1e-12, elementwise_affine=True)\n      (dropout): Dropout(p=0.1, inplace=False)\n    )\n    (encoder): BertEncoder(\n      (layer): ModuleList(\n        (0-11): 12 x BertLayer(\n          (attention): BertAttention(\n            (self): BertSdpaSelfAttention(\n              (query): Linear(in_features=768, out_features=768, bias=True)\n              (key): Linear(in_features=768, out_features=768, bias=True)\n              (value): Linear(in_features=768, out_features=768, bias=True)\n              (dropout): Dropout(p=0.1, inplace=False)\n            )\n            (output): BertSelfOutput(\n              (dense): Linear(in_features=768, out_features=768, bias=True)\n              (LayerNorm): LayerNorm((768,), eps=1e-12, elementwise_affine=True)\n              (dropout): Dropout(p=0.1, inplace=False)\n            )\n          )\n          (intermediate): BertIntermediate(\n            (dense): Linear(in_features=768, out_features=3072, bias=True)\n            (intermediate_act_fn): GELUActivation()\n          )\n          (output): BertOutput(\n            (dense): Linear(in_features=3072, out_features=768, bias=True)\n            (LayerNorm): LayerNorm((768,), eps=1e-12, elementwise_affine=True)\n            (dropout): Dropout(p=0.1, inplace=False)\n          )\n        )\n      )\n    )\n    (pooler): BertPooler(\n      (dense): Linear(in_features=768, out_features=768, bias=True)\n      (activation): Tanh()\n    )\n  )\n  (classifier): Sequential(\n    (0): Linear(in_features=768, out_features=256, bias=True)\n    (1): ReLU()\n    (2): Dropout(p=0.1, inplace=False)\n    (3): Linear(in_features=256, out_features=1, bias=True)\n    (4): Sigmoid()\n  )\n)"
          },
          "metadata": {}
        }
      ],
      "execution_count": null
    },
    {
      "cell_type": "markdown",
      "source": [
        "## PPO Training"
      ],
      "metadata": {
        "id": "aHf3LVvXRtnQ"
      }
    },
    {
      "cell_type": "markdown",
      "source": [
        "### PPO Dataset and Dataloader"
      ],
      "metadata": {
        "id": "9gz2BtVvRtnV"
      }
    },
    {
      "cell_type": "code",
      "source": [
        "\n",
        "PPO_BATCH_SIZE = 8\n",
        "\n",
        "class PPODataset(Dataset):\n",
        "    def __init__(self, dataframe, tokenizer, max_length):\n",
        "        self.df = dataframe.copy()\n",
        "        self.tokenizer = tokenizer\n",
        "        self.max_length = max_length\n",
        "        self.df['stance_idx'] = self.df['stance'].map(stance_to_id)\n",
        "\n",
        "        self.df = self.df.dropna(subset=['stance_idx']).reset_index(drop=True)\n",
        "        self.df['stance_idx'] = self.df['stance_idx'].astype(int)\n",
        "\n",
        "    def __len__(self): return len(self.df)\n",
        "    def __getitem__(self, idx):\n",
        "        row = self.df.iloc[idx]\n",
        "\n",
        "        encoded = self.tokenizer(\n",
        "            text=row['tweet'], text_pair=row['target'],\n",
        "            max_length=self.max_length, padding=\"max_length\",\n",
        "            truncation=True, return_tensors=\"pt\",\n",
        "        )\n",
        "        return {\n",
        "            'input_ids': encoded['input_ids'].squeeze(0),\n",
        "            'attention_mask': encoded['attention_mask'].squeeze(0),\n",
        "            'query': f\"Tweet: {row['tweet']} [SEP] Target: {row['target']}\",\n",
        "            'stance_idx': torch.tensor(row['stance_idx'], dtype=torch.long)\n",
        "        }\n",
        "\n",
        "\n",
        "ppo_dataset = PPODataset(df_train, tokenizer, MAX_LENGTH)\n",
        "ppo_dataloader = DataLoader(ppo_dataset, batch_size=PPO_BATCH_SIZE, shuffle=True)"
      ],
      "metadata": {
        "trusted": true,
        "execution": {
          "iopub.status.busy": "2025-04-17T16:29:31.049178Z",
          "iopub.execute_input": "2025-04-17T16:29:31.049497Z",
          "iopub.status.idle": "2025-04-17T16:29:31.063661Z",
          "shell.execute_reply.started": "2025-04-17T16:29:31.04947Z",
          "shell.execute_reply": "2025-04-17T16:29:31.062996Z"
        },
        "id": "wzNA9L1GRtnX",
        "outputId": "e0017767-dfe1-49c8-a857-8784ecdd8c4a"
      },
      "outputs": [
        {
          "name": "stdout",
          "text": "\n--- Stage 3: PPO Training ---\n",
          "output_type": "stream"
        }
      ],
      "execution_count": null
    },
    {
      "cell_type": "markdown",
      "source": [
        "### PPO Policy and Value Networks"
      ],
      "metadata": {
        "id": "6nesA1d4Rtnd"
      }
    },
    {
      "cell_type": "code",
      "source": [
        "class PolicyNetwork(nn.Module):\n",
        "    def __init__(self, encoder_path, device, num_actions):\n",
        "        super().__init__()\n",
        "        self.encoder = AutoModel.from_pretrained(MODEL_NAME)\n",
        "        self.encoder.load_state_dict(torch.load(encoder_path, map_location=device))\n",
        "\n",
        "        for param in self.encoder.parameters():\n",
        "            param.requires_grad = False\n",
        "\n",
        "        self.actor = nn.Linear(self.encoder.config.hidden_size, num_actions)\n",
        "\n",
        "        nn.init.xavier_uniform_(self.actor.weight)\n",
        "        nn.init.zeros_(self.actor.bias)\n",
        "\n",
        "\n",
        "    def forward(self, input_ids, attention_mask):\n",
        "        with torch.no_grad():\n",
        "            outputs = self.encoder(input_ids=input_ids, attention_mask=attention_mask, return_dict=True)\n",
        "        cls_output = outputs.last_hidden_state[:, 0]\n",
        "\n",
        "        if torch.isnan(cls_output).any() or torch.isinf(cls_output).any():\n",
        "             cls_output = torch.nan_to_num(cls_output, nan=0.0, posinf=1e6, neginf=-1e6)\n",
        "\n",
        "\n",
        "        logits = self.actor(cls_output)\n",
        "        logits = torch.clamp(logits, min=-10.0, max=10.0)\n",
        "\n",
        "        return logits\n",
        "\n",
        "class ValueNetwork(nn.Module):\n",
        "    def __init__(self, encoder_path, device):\n",
        "        super().__init__()\n",
        "        self.encoder = AutoModel.from_pretrained(MODEL_NAME)\n",
        "        self.encoder.load_state_dict(torch.load(encoder_path, map_location=device))\n",
        "\n",
        "        for param in self.encoder.parameters():\n",
        "            param.requires_grad = False\n",
        "\n",
        "        self.critic = nn.Linear(self.encoder.config.hidden_size, 1)\n",
        "\n",
        "    def forward(self, input_ids, attention_mask):\n",
        "        with torch.no_grad():\n",
        "            outputs = self.encoder(input_ids=input_ids, attention_mask=attention_mask, return_dict=True)\n",
        "        cls_output = outputs.last_hidden_state[:, 0]\n",
        "        value = self.critic(cls_output).squeeze(-1)\n",
        "        return value\n",
        "\n",
        "\n",
        "PPO_POLICY_LR = 1e-5\n",
        "PPO_VALUE_LR = 1e-5\n",
        "\n",
        "policy_net = PolicyNetwork(contrastive_model_path, device, NUM_ACTIONS).to(device)\n",
        "value_net = ValueNetwork(contrastive_model_path, device).to(device)\n",
        "\n",
        "reward_model_ppo = RewardModel(contrastive_model_path, device).to(device)\n",
        "reward_model_ppo.load_state_dict(torch.load(reward_model_path, map_location=device))\n",
        "reward_model_ppo.eval()\n",
        "\n",
        "optimizer_policy = AdamW(policy_net.actor.parameters(), lr=PPO_POLICY_LR)\n",
        "optimizer_value = AdamW(value_net.critic.parameters(), lr=PPO_VALUE_LR)"
      ],
      "metadata": {
        "trusted": true,
        "execution": {
          "iopub.status.busy": "2025-04-17T16:55:34.649395Z",
          "iopub.execute_input": "2025-04-17T16:55:34.650117Z",
          "iopub.status.idle": "2025-04-17T16:55:38.863675Z",
          "shell.execute_reply.started": "2025-04-17T16:55:34.650094Z",
          "shell.execute_reply": "2025-04-17T16:55:38.863075Z"
        },
        "id": "8wB3607sRtnf",
        "outputId": "3737137a-ed39-48f8-c2f6-e867a7bf7016"
      },
      "outputs": [
        {
          "name": "stderr",
          "text": "/tmp/ipykernel_31/2634936988.py:6: FutureWarning: You are using `torch.load` with `weights_only=False` (the current default value), which uses the default pickle module implicitly. It is possible to construct malicious pickle data which will execute arbitrary code during unpickling (See https://github.com/pytorch/pytorch/blob/main/SECURITY.md#untrusted-models for more details). In a future release, the default value for `weights_only` will be flipped to `True`. This limits the functions that could be executed during unpickling. Arbitrary objects will no longer be allowed to be loaded via this mode unless they are explicitly allowlisted by the user via `torch.serialization.add_safe_globals`. We recommend you start setting `weights_only=True` for any use case where you don't have full control of the loaded file. Please open an issue on GitHub for any issues related to this experimental feature.\n  self.encoder.load_state_dict(torch.load(encoder_path, map_location=device))\n",
          "output_type": "stream"
        },
        {
          "name": "stdout",
          "text": "PolicyNetwork Actor head initialized with Xavier Uniform weights and zero bias.\n",
          "output_type": "stream"
        },
        {
          "name": "stderr",
          "text": "/tmp/ipykernel_31/2634936988.py:46: FutureWarning: You are using `torch.load` with `weights_only=False` (the current default value), which uses the default pickle module implicitly. It is possible to construct malicious pickle data which will execute arbitrary code during unpickling (See https://github.com/pytorch/pytorch/blob/main/SECURITY.md#untrusted-models for more details). In a future release, the default value for `weights_only` will be flipped to `True`. This limits the functions that could be executed during unpickling. Arbitrary objects will no longer be allowed to be loaded via this mode unless they are explicitly allowlisted by the user via `torch.serialization.add_safe_globals`. We recommend you start setting `weights_only=True` for any use case where you don't have full control of the loaded file. Please open an issue on GitHub for any issues related to this experimental feature.\n  self.encoder.load_state_dict(torch.load(encoder_path, map_location=device))\n/tmp/ipykernel_31/3820721378.py:7: FutureWarning: You are using `torch.load` with `weights_only=False` (the current default value), which uses the default pickle module implicitly. It is possible to construct malicious pickle data which will execute arbitrary code during unpickling (See https://github.com/pytorch/pytorch/blob/main/SECURITY.md#untrusted-models for more details). In a future release, the default value for `weights_only` will be flipped to `True`. This limits the functions that could be executed during unpickling. Arbitrary objects will no longer be allowed to be loaded via this mode unless they are explicitly allowlisted by the user via `torch.serialization.add_safe_globals`. We recommend you start setting `weights_only=True` for any use case where you don't have full control of the loaded file. Please open an issue on GitHub for any issues related to this experimental feature.\n  self.encoder.load_state_dict(torch.load(encoder_path, map_location=device))\n/tmp/ipykernel_31/2634936988.py:67: FutureWarning: You are using `torch.load` with `weights_only=False` (the current default value), which uses the default pickle module implicitly. It is possible to construct malicious pickle data which will execute arbitrary code during unpickling (See https://github.com/pytorch/pytorch/blob/main/SECURITY.md#untrusted-models for more details). In a future release, the default value for `weights_only` will be flipped to `True`. This limits the functions that could be executed during unpickling. Arbitrary objects will no longer be allowed to be loaded via this mode unless they are explicitly allowlisted by the user via `torch.serialization.add_safe_globals`. We recommend you start setting `weights_only=True` for any use case where you don't have full control of the loaded file. Please open an issue on GitHub for any issues related to this experimental feature.\n  reward_model_ppo.load_state_dict(torch.load(reward_model_path, map_location=device))\n",
          "output_type": "stream"
        }
      ],
      "execution_count": null
    },
    {
      "cell_type": "markdown",
      "source": [
        "### PPO Training"
      ],
      "metadata": {
        "id": "lTrFuCW4Rtn_"
      }
    },
    {
      "cell_type": "code",
      "source": [
        "GAMMA = 0.99\n",
        "EPSILON = 0.2\n",
        "C1 = 0.5\n",
        "C2 = 0.01\n",
        "MAX_GRAD_NORM = 1.0\n",
        "PPO_UPDATES_PER_ROLLOUT = 4\n",
        "PPO_EPOCHS = 2\n",
        "\n",
        "for epoch in range(PPO_EPOCHS):\n",
        "    policy_net.train()\n",
        "    value_net.train()\n",
        "    policy_net.encoder.eval()\n",
        "    value_net.encoder.eval()\n",
        "\n",
        "    rollout_data = []\n",
        "\n",
        "    print(f\"\\n--- PPO Epoch {epoch+1}/{PPO_EPOCHS}: Rollout Phase ---\")\n",
        "    progress_bar_rollout = tqdm(ppo_dataloader, desc=f\"Rollout Epoch {epoch+1}\", leave=False)\n",
        "    nan_detected_in_rollout = False\n",
        "\n",
        "    for batch_idx, batch in enumerate(progress_bar_rollout):\n",
        "        if nan_detected_in_rollout and epoch > 0:\n",
        "             print(\"Stopping rollout due to persistent NaNs from previous epoch.\")\n",
        "             break\n",
        "\n",
        "        input_ids = batch['input_ids'].to(device)\n",
        "        attention_mask = batch['attention_mask'].to(device)\n",
        "        queries = batch['query']\n",
        "\n",
        "        with torch.no_grad():\n",
        "            try:\n",
        "                logits = policy_net(input_ids, attention_mask)\n",
        "\n",
        "                if torch.isnan(logits).any() or torch.isinf(logits).any():\n",
        "                    print(f\"!!! NaN/Inf detected in final policy logits at batch {batch_idx} (AFTER potential clamping) !!!\")\n",
        "                    nan_detected_in_rollout = True\n",
        "                    continue\n",
        "\n",
        "                values = value_net(input_ids, attention_mask)\n",
        "                if torch.isnan(values).any() or torch.isinf(values).any():\n",
        "                    print(f\"NaN/Inf detected in value network output during rollout at batch {batch_idx}!\")\n",
        "                    nan_detected_in_rollout = True\n",
        "                    continue\n",
        "\n",
        "                probs = torch.softmax(logits, dim=-1)\n",
        "                if torch.isnan(probs).any() or not torch.all(probs >= 0):\n",
        "                     print(f\"NaN/Invalid probability detected AFTER softmax at batch {batch_idx}!\")\n",
        "                     print(\"Problematic Logits:\", logits)\n",
        "                     nan_detected_in_rollout = True\n",
        "                     continue\n",
        "\n",
        "                dist = Categorical(probs=probs)\n",
        "                actions = dist.sample()\n",
        "                log_probs = dist.log_prob(actions)\n",
        "\n",
        "\n",
        "            except ValueError as ve:\n",
        "                 print(f\"!!! ValueError during Categorical distribution creation at batch {batch_idx}: {ve} !!!\")\n",
        "                 print(\"Logits leading to error:\", logits)\n",
        "                 print(\"Probs leading to error:\", probs)\n",
        "                 nan_detected_in_rollout = True\n",
        "                 continue\n",
        "            except Exception as e:\n",
        "                print(f\"!!! Exception during policy/value forward pass at batch {batch_idx}: {e} !!!\")\n",
        "                print(\"Input IDs shape:\", input_ids.shape)\n",
        "                nan_detected_in_rollout = True\n",
        "                continue\n",
        "\n",
        "\n",
        "        action_stances = [id_to_stance[a.item()] for a in actions]\n",
        "        reward_input_texts = [f\"{q} [PRED] {s}\" for q, s in zip(queries, action_stances)]\n",
        "        reward_encodings = tokenizer(\n",
        "            reward_input_texts, padding=True, truncation=True,\n",
        "            max_length=MAX_LENGTH, return_tensors='pt'\n",
        "        ).to(device)\n",
        "\n",
        "        with torch.no_grad():\n",
        "             rewards = reward_model_ppo(reward_encodings['input_ids'], reward_encodings['attention_mask'])\n",
        "             if torch.isnan(rewards).any() or torch.isinf(rewards).any():\n",
        "                 print(f\"NaN/Inf detected in rewards during rollout at batch {batch_idx}!\")\n",
        "                 rewards = torch.zeros_like(actions, dtype=torch.float32)\n",
        "\n",
        "\n",
        "        batch_data = {\n",
        "            'input_ids': input_ids.cpu(), 'attention_mask': attention_mask.cpu(),\n",
        "            'actions': actions.cpu(), 'log_probs_old': log_probs.cpu(),\n",
        "            'values': values.cpu(),\n",
        "            'rewards': rewards.cpu()\n",
        "        }\n",
        "        rollout_data.append(batch_data)\n",
        "        if not nan_detected_in_rollout:\n",
        "            progress_bar_rollout.set_postfix(avg_reward=rewards.mean().item())\n",
        "\n",
        "\n",
        "    if nan_detected_in_rollout:\n",
        "        print(\"!!! WARNING: NaN/Inf was detected during the rollout phase. Learning phase might be unstable or skipped. !!!\")\n",
        "\n",
        "\n",
        "\n",
        "    print(f\"--- PPO Epoch {epoch+1}/{PPO_EPOCHS}: Learning Phase ---\")\n",
        "    policy_net.train()\n",
        "    value_net.train()\n",
        "\n",
        "    for _ in range(PPO_UPDATES_PER_ROLLOUT):\n",
        "        progress_bar_learn = tqdm(range(len(rollout_data)), desc=f\"Learn Update {_+1}/{PPO_UPDATES_PER_ROLLOUT}\", leave=False)\n",
        "        random.shuffle(rollout_data)\n",
        "\n",
        "        for i in progress_bar_learn:\n",
        "            if rollout_data[i]['input_ids'].size(0) <= 1:\n",
        "                continue\n",
        "\n",
        "            batch = {k: v.to(device) for k, v in rollout_data[i].items()}\n",
        "\n",
        "            advantages = batch['rewards'] - batch['values']\n",
        "\n",
        "            adv_mean = advantages.mean()\n",
        "            adv_std = advantages.std()\n",
        "            if torch.isnan(adv_std) or adv_std < 1e-8:\n",
        "                 advantages = torch.zeros_like(advantages)\n",
        "            else:\n",
        "                 advantages = (advantages - adv_mean) / (adv_std + 1e-8)\n",
        "\n",
        "            value_targets = batch['rewards']\n",
        "\n",
        "            logits_new = policy_net(batch['input_ids'], batch['attention_mask'])\n",
        "\n",
        "            if torch.isnan(logits_new).any():\n",
        "                 print(f\"NaN detected in policy logits during learning phase update {_+1}, batch {i}!\")\n",
        "                 continue\n",
        "\n",
        "            probs_new = torch.softmax(logits_new, dim=-1)\n",
        "\n",
        "            if torch.isnan(probs_new).any() or not torch.all(probs_new >= 0):\n",
        "                print(f\"NaN or invalid probability detected after softmax in learning phase update {_+1}, batch {i}!\")\n",
        "                continue\n",
        "\n",
        "            dist_new = Categorical(probs=probs_new)\n",
        "            log_probs_new = dist_new.log_prob(batch['actions'])\n",
        "            entropy = dist_new.entropy().mean()\n",
        "            if torch.isnan(entropy):\n",
        "                 print(f\"NaN detected in entropy calculation!\")\n",
        "                 entropy = torch.tensor(0.0).to(device)\n",
        "\n",
        "            log_probs_old_clamped = torch.clamp(batch['log_probs_old'], min=-20)\n",
        "            ratio = torch.exp(log_probs_new - log_probs_old_clamped)\n",
        "            if torch.isnan(ratio).any() or torch.isinf(ratio).any():\n",
        "                print(f\"NaN or Inf detected in ratio calculation!\")\n",
        "                continue\n",
        "\n",
        "            surr1 = ratio * advantages\n",
        "            surr2 = torch.clamp(ratio, 1.0 - EPSILON, 1.0 + EPSILON) * advantages\n",
        "            policy_loss = -torch.min(surr1, surr2).mean()\n",
        "\n",
        "            values_new = value_net(batch['input_ids'], batch['attention_mask'])\n",
        "            value_loss = F.mse_loss(values_new, value_targets)\n",
        "\n",
        "            if torch.isnan(policy_loss) or torch.isinf(policy_loss) or \\\n",
        "               torch.isnan(value_loss) or torch.isinf(value_loss):\n",
        "                print(f\"NaN or Inf detected in loss calculation (Policy: {policy_loss.item()}, Value: {value_loss.item()})! Skipping update.\")\n",
        "                continue\n",
        "\n",
        "            loss = policy_loss + C1 * value_loss - C2 * entropy\n",
        "\n",
        "            optimizer_policy.zero_grad()\n",
        "            optimizer_value.zero_grad()\n",
        "            loss.backward()\n",
        "\n",
        "            torch.nn.utils.clip_grad_norm_(policy_net.actor.parameters(), MAX_GRAD_NORM)\n",
        "            torch.nn.utils.clip_grad_norm_(value_net.critic.parameters(), MAX_GRAD_NORM)\n",
        "\n",
        "            optimizer_policy.step()\n",
        "            optimizer_value.step()\n",
        "\n",
        "            progress_bar_learn.set_postfix(p_loss=policy_loss.item(), v_loss=value_loss.item())\n",
        "\n",
        "    print(f\"PPO Epoch {epoch+1} learning finished.\")\n",
        "\n",
        "\n",
        "ppo_policy_model_path = os.path.join(OUTPUT_DIR, \"ppo_policy_model.pth\")\n",
        "torch.save(policy_net.state_dict(), ppo_policy_model_path)\n",
        "print(f\"Final PPO policy model saved to {ppo_policy_model_path}\")\n"
      ],
      "metadata": {
        "trusted": true,
        "execution": {
          "iopub.status.busy": "2025-04-17T16:55:43.851085Z",
          "iopub.execute_input": "2025-04-17T16:55:43.851382Z",
          "iopub.status.idle": "2025-04-17T17:30:36.942578Z",
          "shell.execute_reply.started": "2025-04-17T16:55:43.851362Z",
          "shell.execute_reply": "2025-04-17T17:30:36.941907Z"
        },
        "id": "FcaQ-NkZRtoB",
        "outputId": "633096c8-a5fe-4b7c-b0a7-5963c3179770",
        "colab": {
          "referenced_widgets": [
            "a0dabc7b964b4e739b352d3d99956649",
            "",
            "8d7ebcaaf2e540f3a911709aef3b59cc"
          ]
        }
      },
      "outputs": [
        {
          "name": "stdout",
          "text": "Starting PPO training...\n\n--- PPO Epoch 1/2: Rollout Phase ---\n",
          "output_type": "stream"
        },
        {
          "output_type": "display_data",
          "data": {
            "text/plain": "Rollout Epoch 1:   0%|          | 0/1414 [00:00<?, ?it/s]",
            "application/vnd.jupyter.widget-view+json": {
              "version_major": 2,
              "version_minor": 0,
              "model_id": "a0dabc7b964b4e739b352d3d99956649"
            }
          },
          "metadata": {}
        },
        {
          "output_type": "display_data",
          "data": {
            "text/plain": "Learn Update 2/4:   0%|          | 0/1414 [00:00<?, ?it/s]",
            "application/vnd.jupyter.widget-view+json": {
              "version_major": 2,
              "version_minor": 0,
              "model_id": ""
            }
          },
          "metadata": {}
        },
        {
          "output_type": "display_data",
          "data": {
            "text/plain": "Learn Update 3/4:   0%|          | 0/1414 [00:00<?, ?it/s]",
            "application/vnd.jupyter.widget-view+json": {
              "version_major": 2,
              "version_minor": 0,
              "model_id": ""
            }
          },
          "metadata": {}
        },
        {
          "output_type": "display_data",
          "data": {
            "text/plain": "Learn Update 4/4:   0%|          | 0/1414 [00:00<?, ?it/s]",
            "application/vnd.jupyter.widget-view+json": {
              "version_major": 2,
              "version_minor": 0,
              "model_id": ""
            }
          },
          "metadata": {}
        },
        {
          "name": "stdout",
          "text": "PPO Epoch 1 learning finished.\n\n--- PPO Epoch 2/2: Rollout Phase ---\n",
          "output_type": "stream"
        },
        {
          "output_type": "display_data",
          "data": {
            "text/plain": "Rollout Epoch 2:   0%|          | 0/1414 [00:00<?, ?it/s]",
            "application/vnd.jupyter.widget-view+json": {
              "version_major": 2,
              "version_minor": 0,
              "model_id": "8d7ebcaaf2e540f3a911709aef3b59cc"
            }
          },
          "metadata": {}
        },
        {
          "output_type": "display_data",
          "data": {
            "text/plain": "Learn Update 3/4:   0%|          | 0/1414 [00:00<?, ?it/s]",
            "application/vnd.jupyter.widget-view+json": {
              "version_major": 2,
              "version_minor": 0,
              "model_id": ""
            }
          },
          "metadata": {}
        },
        {
          "output_type": "display_data",
          "data": {
            "text/plain": "Learn Update 4/4:   0%|          | 0/1414 [00:00<?, ?it/s]",
            "application/vnd.jupyter.widget-view+json": {
              "version_major": 2,
              "version_minor": 0,
              "model_id": ""
            }
          },
          "metadata": {}
        },
        {
          "name": "stdout",
          "text": "PPO Epoch 2 learning finished.\nFinal PPO policy model saved to ./stance_detection_output/ppo_policy_model.pth\n",
          "output_type": "stream"
        }
      ],
      "execution_count": null
    },
    {
      "cell_type": "markdown",
      "source": [
        "### Evaluation Using PPO Policy"
      ],
      "metadata": {
        "id": "C1jPRu_cRtoz"
      }
    },
    {
      "cell_type": "code",
      "source": [
        "final_policy_net = PolicyNetwork(contrastive_model_path, device, NUM_ACTIONS).to(device)\n",
        "final_policy_net.load_state_dict(torch.load(ppo_policy_model_path, map_location=device))\n",
        "final_policy_net.eval()\n",
        "\n",
        "final_test_dataset = PPODataset(df_test, tokenizer, MAX_LENGTH)\n",
        "final_test_dataloader = DataLoader(final_test_dataset, batch_size=PPO_BATCH_SIZE * 2)\n",
        "\n",
        "evaluate_model(final_policy_net, final_test_dataloader, None, device, \"Final PPO Policy\")\n",
        "\n",
        "print(\"\\n--- Pipeline Finished ---\")"
      ],
      "metadata": {
        "trusted": true,
        "execution": {
          "iopub.status.busy": "2025-04-17T17:30:41.635845Z",
          "iopub.execute_input": "2025-04-17T17:30:41.636568Z",
          "iopub.status.idle": "2025-04-17T17:31:09.710849Z",
          "shell.execute_reply.started": "2025-04-17T17:30:41.636537Z",
          "shell.execute_reply": "2025-04-17T17:31:09.709815Z"
        },
        "id": "bn7JsvgvRto5",
        "outputId": "668c3dbd-a0ee-4d49-d6ef-e91dc912e9b0",
        "colab": {
          "referenced_widgets": [
            "fd6fae6872e7484fb6b9443b131ff9dd"
          ]
        }
      },
      "outputs": [
        {
          "name": "stdout",
          "text": "\n--- Stage 4: Final Evaluation (PPO Policy on Test Set) ---\n",
          "output_type": "stream"
        },
        {
          "name": "stderr",
          "text": "/tmp/ipykernel_31/2634936988.py:6: FutureWarning: You are using `torch.load` with `weights_only=False` (the current default value), which uses the default pickle module implicitly. It is possible to construct malicious pickle data which will execute arbitrary code during unpickling (See https://github.com/pytorch/pytorch/blob/main/SECURITY.md#untrusted-models for more details). In a future release, the default value for `weights_only` will be flipped to `True`. This limits the functions that could be executed during unpickling. Arbitrary objects will no longer be allowed to be loaded via this mode unless they are explicitly allowlisted by the user via `torch.serialization.add_safe_globals`. We recommend you start setting `weights_only=True` for any use case where you don't have full control of the loaded file. Please open an issue on GitHub for any issues related to this experimental feature.\n  self.encoder.load_state_dict(torch.load(encoder_path, map_location=device))\n",
          "output_type": "stream"
        },
        {
          "name": "stdout",
          "text": "PolicyNetwork Actor head initialized with Xavier Uniform weights and zero bias.\n",
          "output_type": "stream"
        },
        {
          "output_type": "display_data",
          "data": {
            "text/plain": "Final PPO Policy:   0%|          | 0/188 [00:00<?, ?it/s]",
            "application/vnd.jupyter.widget-view+json": {
              "version_major": 2,
              "version_minor": 0,
              "model_id": "fd6fae6872e7484fb6b9443b131ff9dd"
            }
          },
          "metadata": {}
        },
        {
          "name": "stdout",
          "text": "\n--- Final PPO Policy Results ---\nAccuracy      : 0.3473\nPrecision (Mac): 0.4051\nRecall (Mac)  : 0.3436\nF1 Score (Mac): 0.2671\nF1 Score (Wgt): 0.2682\n\nClassification Report:\n              precision    recall  f1-score   support\n\n       FAVOR       0.34      0.83      0.48      1018\n     AGAINST       0.60      0.10      0.18       944\n        NONE       0.27      0.09      0.14      1044\n\n    accuracy                           0.35      3006\n   macro avg       0.41      0.34      0.27      3006\nweighted avg       0.40      0.35      0.27      3006\n\n",
          "output_type": "stream"
        },
        {
          "output_type": "display_data",
          "data": {
            "text/plain": "<Figure size 800x600 with 2 Axes>",
            "image/png": "[encoded data removed]"
          },
          "metadata": {}
        },
        {
          "name": "stdout",
          "text": "\n--- Pipeline Finished ---\n",
          "output_type": "stream"
        }
      ],
      "execution_count": null
    },
    {
      "cell_type": "code",
      "source": [],
      "metadata": {
        "trusted": true,
        "id": "rs6LobuJRto-"
      },
      "outputs": [],
      "execution_count": null
    }
  ]
}